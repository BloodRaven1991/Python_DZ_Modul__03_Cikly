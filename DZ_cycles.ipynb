{
 "cells": [
  {
   "cell_type": "code",
   "execution_count": null,
   "metadata": {},
   "outputs": [],
   "source": [
    "def chisla(num):\n",
    "    if num <= 1:\n",
    "        return False\n",
    "    for i in range(2, int(num**0.5) + 1):\n",
    "        if num % i == 0:\n",
    "            return False\n",
    "    return True\n",
    "\n",
    "first = int(input(\"Введите первое число диапазона: \"))\n",
    "second = int(input(\"Введите второе число диапазона: \"))\n",
    "\n",
    "print(f\"Простые числа в диапазоне от {first} до {second}:\")\n",
    "for number in range(first, second + 1):\n",
    "    if chisla(number):\n",
    "        print(number)"
   ]
  },
  {
   "cell_type": "code",
   "execution_count": null,
   "metadata": {},
   "outputs": [],
   "source": [
    "for a in range(1, 11):\n",
    "    for b in range(1, 11):\n",
    "        print(f\"{a} * {b} = {a * b}\", end=\"\\t\")\n",
    "    print()"
   ]
  },
  {
   "cell_type": "code",
   "execution_count": null,
   "metadata": {},
   "outputs": [],
   "source": [
    "one = int(input(\"Введите первое число диапазона: \"))\n",
    "two = int(input(\"Введите второе число диапазона: \"))\n",
    "\n",
    "for a in range(one, two + 1):\n",
    "    for b in range(1, 11):\n",
    "        print(f\"{a} * {b} = {a * b}\", end=\"\\t\")\n",
    "    print()"
   ]
  }
 ],
 "metadata": {
  "kernelspec": {
   "display_name": "Python 3",
   "language": "python",
   "name": "python3"
  },
  "language_info": {
   "name": "python",
   "version": "3.12.6"
  }
 },
 "nbformat": 4,
 "nbformat_minor": 2
}
